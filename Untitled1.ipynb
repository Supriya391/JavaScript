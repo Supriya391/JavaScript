{
  "nbformat": 4,
  "nbformat_minor": 0,
  "metadata": {
    "colab": {
      "name": "Untitled1.ipynb",
      "provenance": [],
      "authorship_tag": "ABX9TyOO/qv0LPJv2EQACTY1xasb",
      "include_colab_link": true
    },
    "kernelspec": {
      "name": "python3",
      "display_name": "Python 3"
    }
  },
  "cells": [
    {
      "cell_type": "markdown",
      "metadata": {
        "id": "view-in-github",
        "colab_type": "text"
      },
      "source": [
        "<a href=\"https://colab.research.google.com/github/Supriya391/JavaScript/blob/master/Untitled1.ipynb\" target=\"_parent\"><img src=\"https://colab.research.google.com/assets/colab-badge.svg\" alt=\"Open In Colab\"/></a>"
      ]
    },
    {
      "cell_type": "code",
      "metadata": {
        "id": "SNCfvBG3jmRA",
        "outputId": "67e7c28f-ca80-4817-924f-c717f5c23e7e",
        "colab": {
          "base_uri": "https://localhost:8080/",
          "height": 0
        }
      },
      "source": [
        "#1)-accept two list of 5 elements and converts them into numpy arrays.\n",
        "#concatenate these arrays and print it .also sort thse arrays and print it.\n",
        "import numpy as np\n",
        "print(' two list of numpy array elements is')\n",
        "list1 = [2,4]\n",
        "list2 = [2,3,4]\n",
        "array_sort =[list1+list2]\n",
        "print(array_sort)"
      ],
      "execution_count": 1,
      "outputs": [
        {
          "output_type": "stream",
          "text": [
            " two list of numpy array elements is\n",
            "[[2, 4, 2, 3, 4]]\n"
          ],
          "name": "stdout"
        }
      ]
    },
    {
      "cell_type": "code",
      "metadata": {
        "id": "hJQ4Ty1mj_V7",
        "outputId": "db6ddf46-bdde-47fd-bf2c-884f804dd5a6",
        "colab": {
          "base_uri": "https://localhost:8080/",
          "height": 0
        }
      },
      "source": [
        "#2)-how to get unique items and count of unique items\n",
        "a_list = [1,1,3,6,7,7,8,9,9,0]\n",
        "a_set = set(a_list)\n",
        "count_of_unique_items = len(a_set)\n",
        "list_unique_items = set(a_set)\n",
        "print('count of unique items is')\n",
        "print(count_of_unique_items)\n",
        "print('list of unique items')\n",
        "print(list_unique_items)"
      ],
      "execution_count": 2,
      "outputs": [
        {
          "output_type": "stream",
          "text": [
            "count of unique items is\n",
            "7\n",
            "list of unique items\n",
            "{0, 1, 3, 6, 7, 8, 9}\n"
          ],
          "name": "stdout"
        }
      ]
    },
    {
      "cell_type": "code",
      "metadata": {
        "id": "PrA6ZhsCkUF0",
        "outputId": "4d8d7273-53a7-4c59-a687-39a89b9cd90d",
        "colab": {
          "base_uri": "https://localhost:8080/",
          "height": 0
        }
      },
      "source": [
        "#3)consider two square numpy array stack them vertically and horizontally\n",
        "#hint: use vstack(),vhstack()\n",
        "import numpy as np\n",
        "a = np.array([[1,2],\n",
        "              [3,4]])\n",
        "b = np.array([[5,6],\n",
        "              [7,8]])\n",
        "print(\" vertical stacking:\\n\",np.vstack((a,b)))\n",
        "print(\" \\n horizontal stacking:\\n\",np.hstack((a,b)))"
      ],
      "execution_count": 6,
      "outputs": [
        {
          "output_type": "stream",
          "text": [
            " vertical stacking:\n",
            " [[1 2]\n",
            " [3 4]\n",
            " [5 6]\n",
            " [7 8]]\n",
            " \n",
            " horizontal stacking:\n",
            " [[1 2 5 6]\n",
            " [3 4 7 8]]\n"
          ],
          "name": "stdout"
        }
      ]
    },
    {
      "cell_type": "code",
      "metadata": {
        "id": "8H1q0Zj2oE7h",
        "outputId": "9e2c782f-5d42-44c5-cde4-d6fc4e625236",
        "colab": {
          "base_uri": "https://localhost:8080/",
          "height": 0
        }
      },
      "source": [
        "#4)-how to convert a 1d array into a 2d array .demonstrate\n",
        "# with the help of a code snippet\n",
        "import numpy as np\n",
        "arr = np.array([1,2,4,7,6,9,0,4])\n",
        "print('1d arr is ')\n",
        "print(arr)\n",
        "print(\"\\n now converting 1d array to 2d array is\\n\")\n",
        "arr_2d = np.reshape(arr, (2,4))\n",
        "print('2d array is ')\n",
        "print( arr_2d)"
      ],
      "execution_count": 8,
      "outputs": [
        {
          "output_type": "stream",
          "text": [
            "1d arr is \n",
            "[1 2 4 7 6 9 0 4]\n",
            "\n",
            " now converting 1d array to 2d array is\n",
            "\n",
            "2d array is \n",
            "[[1 2 4 7]\n",
            " [6 9 0 4]]\n"
          ],
          "name": "stdout"
        }
      ]
    },
    {
      "cell_type": "code",
      "metadata": {
        "id": "-OBqvXkhj_Y3",
        "outputId": "7bf1e856-26df-464b-bbf8-76f791c7702b",
        "colab": {
          "base_uri": "https://localhost:8080/",
          "height": 0
        }
      },
      "source": [
        "#5-write a code snippet to find the dimentions of\n",
        "# an array and its size \n",
        "import numpy as np\n",
        "arr1 = np.array([1,2,8,5,7,6,5,6])\n",
        "arr2 = np.array([[1,2],[3,4]])\n",
        "shape_arr1 = np.size(arr1)\n",
        "shape_arr2 = np.size(arr2)\n",
        "print('size of array 1 is')\n",
        "print(shape_arr1)\n",
        "print('size of array 2')\n",
        "print(shape_arr2)\n",
        "ndim_arr1 = np.ndim(arr1)\n",
        "ndim_arr2 = np.ndim(arr2)\n",
        "print('the dimention of array 1 is')\n",
        "print(ndim_arr1)\n",
        "print('the dimention of array 2 is')\n",
        "print(ndim_arr2)"
      ],
      "execution_count": 16,
      "outputs": [
        {
          "output_type": "stream",
          "text": [
            "size of array 1 is\n",
            "8\n",
            "size of array 2\n",
            "4\n",
            "the dimention of array 1 is\n",
            "1\n",
            "the dimention of array 2 is\n",
            "2\n"
          ],
          "name": "stdout"
        }
      ]
    },
    {
      "cell_type": "code",
      "metadata": {
        "id": "Q0Q2r9U2ovsP"
      },
      "source": [
        ""
      ],
      "execution_count": null,
      "outputs": []
    }
  ]
}